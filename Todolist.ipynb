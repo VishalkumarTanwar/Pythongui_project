{
 "cells": [
  {
   "cell_type": "code",
   "execution_count": null,
   "id": "02a89368-a456-4f38-8667-bfd84fed6dee",
   "metadata": {},
   "outputs": [],
   "source": [
    "import tkinter as tk\n",
    "\n",
    "class ToDoList:\n",
    "    def __init__(self, root):\n",
    "        self.root = root\n",
    "        self.root.title(\"To-Do List\")\n",
    "        self.tasks = []\n",
    "\n",
    "        self.task_list_frame = tk.Frame(self.root)\n",
    "        self.task_list_frame.pack(fill=\"both\", expand=True)\n",
    "\n",
    "        \n",
    "        self.task_list_label = tk.Label(self.task_list_frame, text=\"Tasks:\")\n",
    "        self.task_list_label.pack()\n",
    "\n",
    "       \n",
    "        self.task_list_box = tk.Listbox(self.task_list_frame, width=40)\n",
    "        self.task_list_box.pack(fill=\"both\", expand=True)\n",
    "        self.add_task_frame = tk.Frame(self.root)\n",
    "        self.add_task_frame.pack(fill=\"x\")\n",
    "        self.add_task_label = tk.Label(self.add_task_frame, text=\"Add Task:\")\n",
    "        self.add_task_label.pack(side=\"left\")\n",
    "        self.add_task_entry = tk.Entry(self.add_task_frame, width=30)\n",
    "        self.add_task_entry.pack(side=\"left\")\n",
    "\n",
    "        self.add_task_button = tk.Button(self.add_task_frame, text=\"Add\", command=self.add_task)\n",
    "        self.add_task_button.pack(side=\"left\")\n",
    "        self.delete_task_button = tk.Button(self.add_task_frame, text=\"Delete\", command=self.delete_task)\n",
    "        self.delete_task_button.pack(side=\"left\")\n",
    "\n",
    "    def add_task(self):\n",
    "        task = self.add_task_entry.get()\n",
    "        if task != \"\":\n",
    "            self.tasks.append(task)\n",
    "            self.task_list_box.insert(tk.END, task)\n",
    "            self.add_task_entry.delete(0, tk.END)\n",
    "\n",
    "    def delete_task(self):\n",
    "        try:\n",
    "            task_index = self.task_list_box.curselection()[0]\n",
    "            self.task_list_box.delete(task_index)\n",
    "            self.tasks.pop(task_index)\n",
    "        except:\n",
    "            pass\n",
    "\n",
    "root = tk.Tk()\n",
    "todo_list = ToDoList(root)\n",
    "root.mainloop()"
   ]
  }
 ],
 "metadata": {
  "kernelspec": {
   "display_name": "Python 3 (ipykernel)",
   "language": "python",
   "name": "python3"
  },
  "language_info": {
   "codemirror_mode": {
    "name": "ipython",
    "version": 3
   },
   "file_extension": ".py",
   "mimetype": "text/x-python",
   "name": "python",
   "nbconvert_exporter": "python",
   "pygments_lexer": "ipython3",
   "version": "3.11.7"
  }
 },
 "nbformat": 4,
 "nbformat_minor": 5
}
